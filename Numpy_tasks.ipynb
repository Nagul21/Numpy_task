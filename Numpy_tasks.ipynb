{
  "cells": [
    {
      "cell_type": "markdown",
      "metadata": {
        "id": "view-in-github",
        "colab_type": "text"
      },
      "source": [
        "<a href=\"https://colab.research.google.com/github/Nagul21/Numpy_task/blob/main/Numpy_tasks.ipynb\" target=\"_parent\"><img src=\"https://colab.research.google.com/assets/colab-badge.svg\" alt=\"Open In Colab\"/></a>"
      ]
    },
    {
      "cell_type": "markdown",
      "metadata": {
        "id": "4LHgX5URpyQB"
      },
      "source": [
        "# Numpy\n",
        "\n"
      ]
    },
    {
      "cell_type": "markdown",
      "metadata": {
        "id": "kmj9X8yKpyQM"
      },
      "source": [
        "#### 1. Import the numpy package under the name `np` (★☆☆) \n",
        "(**hint**: import … as …)"
      ]
    },
    {
      "cell_type": "code",
      "execution_count": 1,
      "metadata": {
        "collapsed": true,
        "id": "gC13qaJrpyQO"
      },
      "outputs": [],
      "source": [
        "import numpy as np"
      ]
    },
    {
      "cell_type": "markdown",
      "metadata": {
        "id": "nWYhO8appyQQ"
      },
      "source": [
        "#### 2. Print the numpy version and the configuration (★☆☆) \n",
        "(**hint**: np.\\_\\_version\\_\\_, np.show\\_config)"
      ]
    },
    {
      "cell_type": "code",
      "execution_count": 10,
      "metadata": {
        "id": "F0_e1WltpyQR",
        "outputId": "afc54015-0b8c-4c69-fbb9-86cfe82041c5",
        "colab": {
          "base_uri": "https://localhost:8080/"
        }
      },
      "outputs": [
        {
          "output_type": "stream",
          "name": "stdout",
          "text": [
            "1.21.6\n",
            "blas_mkl_info:\n",
            "  NOT AVAILABLE\n",
            "blis_info:\n",
            "  NOT AVAILABLE\n",
            "openblas_info:\n",
            "    libraries = ['openblas', 'openblas']\n",
            "    library_dirs = ['/usr/local/lib']\n",
            "    language = c\n",
            "    define_macros = [('HAVE_CBLAS', None)]\n",
            "    runtime_library_dirs = ['/usr/local/lib']\n",
            "blas_opt_info:\n",
            "    libraries = ['openblas', 'openblas']\n",
            "    library_dirs = ['/usr/local/lib']\n",
            "    language = c\n",
            "    define_macros = [('HAVE_CBLAS', None)]\n",
            "    runtime_library_dirs = ['/usr/local/lib']\n",
            "lapack_mkl_info:\n",
            "  NOT AVAILABLE\n",
            "openblas_lapack_info:\n",
            "    libraries = ['openblas', 'openblas']\n",
            "    library_dirs = ['/usr/local/lib']\n",
            "    language = c\n",
            "    define_macros = [('HAVE_CBLAS', None)]\n",
            "    runtime_library_dirs = ['/usr/local/lib']\n",
            "lapack_opt_info:\n",
            "    libraries = ['openblas', 'openblas']\n",
            "    library_dirs = ['/usr/local/lib']\n",
            "    language = c\n",
            "    define_macros = [('HAVE_CBLAS', None)]\n",
            "    runtime_library_dirs = ['/usr/local/lib']\n",
            "Supported SIMD extensions in this NumPy install:\n",
            "    baseline = SSE,SSE2,SSE3\n",
            "    found = SSSE3,SSE41,POPCNT,SSE42,AVX,F16C,FMA3,AVX2\n",
            "    not found = AVX512F,AVX512CD,AVX512_KNL,AVX512_KNM,AVX512_SKX,AVX512_CLX,AVX512_CNL,AVX512_ICL\n",
            "None\n"
          ]
        }
      ],
      "source": [
        "import numpy as np\n",
        "print(np.__version__)\n",
        "print(np.show_config())"
      ]
    },
    {
      "cell_type": "markdown",
      "metadata": {
        "id": "1TyfSon9pyQS"
      },
      "source": [
        "#### 3. Create a null vector of size 10 (★☆☆) \n",
        "(**hint**: np.zeros)"
      ]
    },
    {
      "cell_type": "code",
      "execution_count": 9,
      "metadata": {
        "id": "XQdegBOKpyQT",
        "outputId": "9113c67b-d3f6-4a37-8f50-d316b3efcf0f",
        "colab": {
          "base_uri": "https://localhost:8080/"
        }
      },
      "outputs": [
        {
          "output_type": "stream",
          "name": "stdout",
          "text": [
            "[0. 0. 0. 0. 0. 0. 0. 0. 0. 0.]\n"
          ]
        }
      ],
      "source": [
        "import numpy as np\n",
        "Zero=np.zeros(10)\n",
        "print(Zero)"
      ]
    },
    {
      "cell_type": "markdown",
      "metadata": {
        "id": "LIHSR7yypyQT"
      },
      "source": [
        "#### 4.  How to find the memory size of any array (★☆☆) \n",
        "(**hint**: size, itemsize)"
      ]
    },
    {
      "cell_type": "code",
      "execution_count": 8,
      "metadata": {
        "id": "L_hZH51_pyQU",
        "outputId": "efb62a99-72fd-4b27-cbc7-c93f75f43e06",
        "colab": {
          "base_uri": "https://localhost:8080/"
        }
      },
      "outputs": [
        {
          "output_type": "stream",
          "name": "stdout",
          "text": [
            "10000\n",
            "8\n",
            "80000\n"
          ]
        }
      ],
      "source": [
        "import numpy as np\n",
        "arr = np.zeros((100,100))\n",
        "print(arr.size)\n",
        "print(arr.itemsize)\n",
        "print(arr.size * arr.itemsize)"
      ]
    },
    {
      "cell_type": "markdown",
      "metadata": {
        "id": "N3CU2fMypyQV"
      },
      "source": [
        "#### 5.  How to get the documentation of the numpy add function from the command line? (★☆☆) \n",
        "(**hint**: np.info)"
      ]
    },
    {
      "cell_type": "code",
      "execution_count": 13,
      "metadata": {
        "collapsed": true,
        "id": "FGSy7RJNpyQW",
        "outputId": "47b54797-044d-4eaa-c3d5-8e9726c2da75",
        "colab": {
          "base_uri": "https://localhost:8080/"
        }
      },
      "outputs": [
        {
          "output_type": "stream",
          "name": "stdout",
          "text": [
            "add(x1, x2, /, out=None, *, where=True, casting='same_kind', order='K', dtype=None, subok=True[, signature, extobj])\n",
            "\n",
            "Add arguments element-wise.\n",
            "\n",
            "Parameters\n",
            "----------\n",
            "x1, x2 : array_like\n",
            "    The arrays to be added.\n",
            "    If ``x1.shape != x2.shape``, they must be broadcastable to a common\n",
            "    shape (which becomes the shape of the output).\n",
            "out : ndarray, None, or tuple of ndarray and None, optional\n",
            "    A location into which the result is stored. If provided, it must have\n",
            "    a shape that the inputs broadcast to. If not provided or None,\n",
            "    a freshly-allocated array is returned. A tuple (possible only as a\n",
            "    keyword argument) must have length equal to the number of outputs.\n",
            "where : array_like, optional\n",
            "    This condition is broadcast over the input. At locations where the\n",
            "    condition is True, the `out` array will be set to the ufunc result.\n",
            "    Elsewhere, the `out` array will retain its original value.\n",
            "    Note that if an uninitialized `out` array is created via the default\n",
            "    ``out=None``, locations within it where the condition is False will\n",
            "    remain uninitialized.\n",
            "**kwargs\n",
            "    For other keyword-only arguments, see the\n",
            "    :ref:`ufunc docs <ufuncs.kwargs>`.\n",
            "\n",
            "Returns\n",
            "-------\n",
            "add : ndarray or scalar\n",
            "    The sum of `x1` and `x2`, element-wise.\n",
            "    This is a scalar if both `x1` and `x2` are scalars.\n",
            "\n",
            "Notes\n",
            "-----\n",
            "Equivalent to `x1` + `x2` in terms of array broadcasting.\n",
            "\n",
            "Examples\n",
            "--------\n",
            ">>> np.add(1.0, 4.0)\n",
            "5.0\n",
            ">>> x1 = np.arange(9.0).reshape((3, 3))\n",
            ">>> x2 = np.arange(3.0)\n",
            ">>> np.add(x1, x2)\n",
            "array([[  0.,   2.,   4.],\n",
            "       [  3.,   5.,   7.],\n",
            "       [  6.,   8.,  10.]])\n",
            "\n",
            "The ``+`` operator can be used as a shorthand for ``np.add`` on ndarrays.\n",
            "\n",
            ">>> x1 = np.arange(9.0).reshape((3, 3))\n",
            ">>> x2 = np.arange(3.0)\n",
            ">>> x1 + x2\n",
            "array([[ 0.,  2.,  4.],\n",
            "       [ 3.,  5.,  7.],\n",
            "       [ 6.,  8., 10.]])\n",
            "None\n"
          ]
        }
      ],
      "source": [
        "import numpy as np\n",
        "print(np.info(np.add))"
      ]
    },
    {
      "cell_type": "markdown",
      "metadata": {
        "id": "RVXL0oVHpyQW"
      },
      "source": [
        "#### 6.  Create a null vector of size 10 but the fifth value which is 1 (★☆☆) \n",
        "(**hint**: array\\[4\\])"
      ]
    },
    {
      "cell_type": "code",
      "execution_count": 11,
      "metadata": {
        "id": "luUbZi-MpyQX",
        "outputId": "8c756088-c0a8-410f-e721-8dd57f38d98b",
        "colab": {
          "base_uri": "https://localhost:8080/"
        }
      },
      "outputs": [
        {
          "output_type": "stream",
          "name": "stdout",
          "text": [
            "[0. 0. 0. 0. 1. 0. 0. 0. 0. 0.]\n"
          ]
        }
      ],
      "source": [
        "arr = np.zeros(10)\n",
        "arr[4] = 1\n",
        "print(arr)"
      ]
    },
    {
      "cell_type": "markdown",
      "metadata": {
        "id": "1dpJyqY_pyQZ"
      },
      "source": [
        "#### 7.  Create a vector with values ranging from 10 to 49 (★☆☆) \n",
        "(**hint**: np.arange)"
      ]
    },
    {
      "cell_type": "code",
      "execution_count": 12,
      "metadata": {
        "id": "qR3D4z5lpyQb",
        "outputId": "2396f6fe-4e9a-4a36-8929-ce00a65de38b",
        "colab": {
          "base_uri": "https://localhost:8080/"
        }
      },
      "outputs": [
        {
          "output_type": "stream",
          "name": "stdout",
          "text": [
            "[10 11 12 13 14 15 16 17 18 19 20 21 22 23 24 25 26 27 28 29 30 31 32 33\n",
            " 34 35 36 37 38 39 40 41 42 43 44 45 46 47 48 49]\n"
          ]
        }
      ],
      "source": [
        "print(np.arange(10,50))"
      ]
    },
    {
      "cell_type": "markdown",
      "metadata": {
        "id": "J-os-EPvpyQb"
      },
      "source": [
        "#### 8.  Reverse a vector (first element becomes last) (★☆☆) \n",
        "(**hint**: array\\[::-1\\])"
      ]
    },
    {
      "cell_type": "code",
      "execution_count": 16,
      "metadata": {
        "id": "E4vzRqc5pyQc",
        "outputId": "b4593423-413f-4e39-b449-19ded955ffdd",
        "colab": {
          "base_uri": "https://localhost:8080/"
        }
      },
      "outputs": [
        {
          "output_type": "stream",
          "name": "stdout",
          "text": [
            "[10  9  8  7  6  5  4  3  2  1]\n"
          ]
        }
      ],
      "source": [
        "arr = np.arange(1,11)\n",
        "arr = arr[::-1]\n",
        "print(arr)"
      ]
    },
    {
      "cell_type": "markdown",
      "metadata": {
        "id": "bhAZhQsFpyQd"
      },
      "source": [
        "#### 9.  Create a 3x3 matrix with values ranging from 0 to 8 (★☆☆) \n",
        "(**hint**: reshape)"
      ]
    },
    {
      "cell_type": "code",
      "execution_count": 19,
      "metadata": {
        "id": "B4GodAlIpyQd",
        "outputId": "bef03dbc-9ba1-4752-c801-a8c905735c09",
        "colab": {
          "base_uri": "https://localhost:8080/"
        }
      },
      "outputs": [
        {
          "output_type": "stream",
          "name": "stdout",
          "text": [
            "[[0 1 2]\n",
            " [3 4 5]\n",
            " [6 7 8]]\n"
          ]
        }
      ],
      "source": [
        "arr = np.arange(9).reshape(3,3)\n",
        "print(arr)"
      ]
    },
    {
      "cell_type": "markdown",
      "metadata": {
        "id": "NUCj7coipyQe"
      },
      "source": [
        "#### 10. Find indices of non-zero elements from \\[1,2,0,0,4,0\\] (★☆☆) \n",
        "(**hint**: np.nonzero)"
      ]
    },
    {
      "cell_type": "code",
      "execution_count": 21,
      "metadata": {
        "id": "cRilDKF5pyQf",
        "outputId": "3975a280-12a5-4c2f-cb5d-b3085e39c512",
        "colab": {
          "base_uri": "https://localhost:8080/"
        }
      },
      "outputs": [
        {
          "output_type": "stream",
          "name": "stdout",
          "text": [
            "(array([0, 1, 4]),)\n"
          ]
        }
      ],
      "source": [
        "numbers=[1,2,0,0,4,0]\n",
        "print(np.nonzero(numbers))"
      ]
    },
    {
      "cell_type": "markdown",
      "metadata": {
        "id": "ICICWVElpyQf"
      },
      "source": [
        "#### 11. Create a 3x3 identity matrix (★☆☆) \n",
        "(**hint**: np.eye)"
      ]
    },
    {
      "cell_type": "code",
      "execution_count": 22,
      "metadata": {
        "id": "Vy_XDt5NpyQg",
        "outputId": "110cce79-4c4d-4ce6-d212-cfc1e69fa3ff",
        "colab": {
          "base_uri": "https://localhost:8080/"
        }
      },
      "outputs": [
        {
          "output_type": "stream",
          "name": "stdout",
          "text": [
            "[[1. 0. 0.]\n",
            " [0. 1. 0.]\n",
            " [0. 0. 1.]]\n"
          ]
        }
      ],
      "source": [
        "print(np.eye(3,3))"
      ]
    },
    {
      "cell_type": "markdown",
      "metadata": {
        "id": "BGT6vlJRpyQg"
      },
      "source": [
        "#### 12. Create a 3x3x3 array with random values (★☆☆) \n",
        "(**hint**: np.random.random)"
      ]
    },
    {
      "cell_type": "code",
      "execution_count": 23,
      "metadata": {
        "collapsed": true,
        "id": "JEqTMDsDpyQh",
        "outputId": "30bb7d50-f528-412b-ad44-a7b75aa213af",
        "colab": {
          "base_uri": "https://localhost:8080/"
        }
      },
      "outputs": [
        {
          "output_type": "stream",
          "name": "stdout",
          "text": [
            "[[[0.37138598 0.02686783 0.85045902]\n",
            "  [0.36337347 0.97618339 0.22306466]\n",
            "  [0.07409148 0.6478985  0.22337581]]\n",
            "\n",
            " [[0.7477228  0.72787729 0.06401713]\n",
            "  [0.1348897  0.13683737 0.63643338]\n",
            "  [0.05057092 0.73094935 0.82323621]]\n",
            "\n",
            " [[0.72163719 0.32622022 0.40305914]\n",
            "  [0.91683346 0.93771316 0.27617216]\n",
            "  [0.4353372  0.03328473 0.22298509]]]\n"
          ]
        }
      ],
      "source": [
        "print(np.random.random((3,3,3)))\n"
      ]
    },
    {
      "cell_type": "markdown",
      "metadata": {
        "id": "FGdIOHqhpyQh"
      },
      "source": [
        "#### 13. Create a 10x10 array with random values and find the minimum and maximum values (★☆☆) \n",
        "(**hint**: min, max)"
      ]
    },
    {
      "cell_type": "code",
      "execution_count": 24,
      "metadata": {
        "id": "bZSxZb_9pyQi",
        "outputId": "142e8f1f-f224-4718-ca8b-cb29de0bf241",
        "colab": {
          "base_uri": "https://localhost:8080/"
        }
      },
      "outputs": [
        {
          "output_type": "stream",
          "name": "stdout",
          "text": [
            "[[0.9654321  0.36937363 0.6670629  0.12121331 0.79978011 0.69395233\n",
            "  0.99345887 0.0933783  0.990091   0.32859681]\n",
            " [0.62897738 0.57162837 0.32545832 0.86613562 0.91036574 0.18803372\n",
            "  0.16282538 0.67340079 0.2391751  0.46770609]\n",
            " [0.72360243 0.58835789 0.57263791 0.39572804 0.39107716 0.47927079\n",
            "  0.06310839 0.7845288  0.51814037 0.29766796]\n",
            " [0.81868773 0.00423348 0.17406929 0.17591776 0.93496671 0.68241628\n",
            "  0.99613425 0.77366953 0.08350402 0.68123537]\n",
            " [0.0589746  0.79780242 0.90632168 0.51365313 0.81033204 0.657895\n",
            "  0.43675472 0.81507345 0.0821149  0.09355237]\n",
            " [0.6625052  0.0463236  0.48902549 0.18861325 0.24965558 0.89063159\n",
            "  0.918373   0.38570161 0.03186603 0.80933038]\n",
            " [0.13515717 0.23344682 0.04832918 0.76165855 0.77178976 0.74926088\n",
            "  0.65973435 0.90944011 0.36294714 0.47310923]\n",
            " [0.29909839 0.06700927 0.39268142 0.99262694 0.20320697 0.3344585\n",
            "  0.42074866 0.53932845 0.52468832 0.10567461]\n",
            " [0.86567954 0.79743489 0.83900433 0.29214368 0.07678547 0.76881006\n",
            "  0.6052743  0.98885211 0.31590332 0.83720179]\n",
            " [0.28917033 0.08443944 0.70817447 0.17795891 0.69739068 0.13252109\n",
            "  0.8170957  0.36326406 0.37423913 0.91691628]]\n",
            "0.004233484084424477\n",
            "0.9961342515065688\n"
          ]
        }
      ],
      "source": [
        "RV=np.random.random((10,10))\n",
        "print(RV)\n",
        "print(RV.min())\n",
        "print(RV.max())"
      ]
    },
    {
      "cell_type": "markdown",
      "metadata": {
        "id": "PqjacxA9pyQj"
      },
      "source": [
        "#### 14. Create a random vector of size 30 and find the mean value (★☆☆) \n",
        "(**hint**: mean)"
      ]
    },
    {
      "cell_type": "code",
      "execution_count": 25,
      "metadata": {
        "id": "BunhcdPKpyQj",
        "outputId": "47aa0d69-2ca9-470b-d650-62f08a8dc1fb",
        "colab": {
          "base_uri": "https://localhost:8080/"
        }
      },
      "outputs": [
        {
          "output_type": "stream",
          "name": "stdout",
          "text": [
            "[0.89842406 0.0430068  0.22126542 0.31807944 0.62638661 0.19440497\n",
            " 0.62300647 0.20024555 0.33823608 0.18887302 0.54780125 0.82032391\n",
            " 0.34051975 0.60390308 0.4904358  0.52008968 0.80341474 0.84125307\n",
            " 0.38133064 0.32927578 0.81485091 0.48712768 0.4403022  0.84225932\n",
            " 0.67548416 0.23984821 0.77193286 0.17378657 0.85619669 0.79007411]\n",
            "0.5140712939923395\n"
          ]
        }
      ],
      "source": [
        "R_vec= np.random.random(30)\n",
        "print(R_vec)\n",
        "print(R_vec.mean())"
      ]
    },
    {
      "cell_type": "markdown",
      "metadata": {
        "id": "BiUhAJSmpyQk"
      },
      "source": [
        "#### 15. Create a 2d array with 1 on the border and 0 inside (★☆☆) \n",
        "(**hint**: array\\[1:-1, 1:-1\\])"
      ]
    },
    {
      "cell_type": "code",
      "execution_count": 26,
      "metadata": {
        "id": "HG1fx8fnpyQk",
        "outputId": "84dd237b-b5da-46c7-a2ab-a48ab36a551d",
        "colab": {
          "base_uri": "https://localhost:8080/"
        }
      },
      "outputs": [
        {
          "output_type": "stream",
          "name": "stdout",
          "text": [
            "[[1. 1. 1. 1. 1. 1. 1. 1. 1. 1.]\n",
            " [1. 0. 0. 0. 0. 0. 0. 0. 0. 1.]\n",
            " [1. 0. 0. 0. 0. 0. 0. 0. 0. 1.]\n",
            " [1. 0. 0. 0. 0. 0. 0. 0. 0. 1.]\n",
            " [1. 0. 0. 0. 0. 0. 0. 0. 0. 1.]\n",
            " [1. 0. 0. 0. 0. 0. 0. 0. 0. 1.]\n",
            " [1. 0. 0. 0. 0. 0. 0. 0. 0. 1.]\n",
            " [1. 0. 0. 0. 0. 0. 0. 0. 0. 1.]\n",
            " [1. 0. 0. 0. 0. 0. 0. 0. 0. 1.]\n",
            " [1. 1. 1. 1. 1. 1. 1. 1. 1. 1.]]\n"
          ]
        }
      ],
      "source": [
        "two_d= np.ones((10,10))\n",
        "two_d[1:-1,1:-1] = 0\n",
        "print(two_d)"
      ]
    },
    {
      "cell_type": "markdown",
      "metadata": {
        "id": "RA3zBNfppyQl"
      },
      "source": [
        "#### 16. How to add a border (filled with 0's) around an existing array? (★☆☆) \n",
        "(**hint**: np.pad)"
      ]
    },
    {
      "cell_type": "code",
      "execution_count": 27,
      "metadata": {
        "id": "cdKAsPZHpyQm",
        "outputId": "2b29720b-a929-4a37-e569-014cf3e2349f",
        "colab": {
          "base_uri": "https://localhost:8080/"
        }
      },
      "outputs": [
        {
          "output_type": "stream",
          "name": "stdout",
          "text": [
            "[[0. 0. 0. 0. 0.]\n",
            " [0. 1. 1. 1. 0.]\n",
            " [0. 1. 1. 1. 0.]\n",
            " [0. 1. 1. 1. 0.]\n",
            " [0. 0. 0. 0. 0.]]\n"
          ]
        }
      ],
      "source": [
        "one=np.ones((3,3))\n",
        "pad=np.pad(one,1)\n",
        "print(pad)"
      ]
    },
    {
      "cell_type": "markdown",
      "metadata": {
        "id": "J5gGUfA_pyQm"
      },
      "source": [
        "#### 17. What is the result of the following expression? (★☆☆) \n",
        "(**hint**: NaN = not a number, inf = infinity)"
      ]
    },
    {
      "cell_type": "markdown",
      "metadata": {
        "id": "x4ZFFw0fpyQn"
      },
      "source": [
        "```python\n",
        "0 * np.nan\n",
        "np.nan == np.nan\n",
        "np.inf > np.nan\n",
        "np.nan - np.nan\n",
        "0.3 == 3 * 0.1\n",
        "```"
      ]
    },
    {
      "cell_type": "code",
      "execution_count": 28,
      "metadata": {
        "id": "o2Z6rHfapyQq",
        "outputId": "2039822e-eeb2-47fe-f3ca-bfbe6ce69f46",
        "colab": {
          "base_uri": "https://localhost:8080/"
        }
      },
      "outputs": [
        {
          "output_type": "stream",
          "name": "stdout",
          "text": [
            "nan\n",
            "False\n",
            "False\n",
            "nan\n",
            "False\n"
          ]
        }
      ],
      "source": [
        "print(0 * np.nan)\n",
        "print(np.nan == np.nan)\n",
        "print(np.inf > np.nan)\n",
        "print(np.nan - np.nan)\n",
        "print(0.3 == 3 * 0.1)"
      ]
    },
    {
      "cell_type": "markdown",
      "metadata": {
        "id": "lsgYycvNpyQs"
      },
      "source": [
        "#### 18. Create a 5x5 matrix with values 1,2,3,4 just below the diagonal (★☆☆) \n",
        "(**hint**: np.diag)"
      ]
    },
    {
      "cell_type": "code",
      "execution_count": 29,
      "metadata": {
        "id": "XyvET0-NpyQu",
        "outputId": "045db559-07fd-4ec7-fa11-974f1badc59d",
        "colab": {
          "base_uri": "https://localhost:8080/"
        }
      },
      "outputs": [
        {
          "output_type": "stream",
          "name": "stdout",
          "text": [
            "[[0 0 0 0 0]\n",
            " [1 0 0 0 0]\n",
            " [0 2 0 0 0]\n",
            " [0 0 3 0 0]\n",
            " [0 0 0 4 0]]\n"
          ]
        }
      ],
      "source": [
        "diagonal= np.diag(1+np.arange(4), k = -1)\n",
        "print (diagonal)"
      ]
    },
    {
      "cell_type": "markdown",
      "metadata": {
        "id": "UtrIClPCpyQu"
      },
      "source": [
        "#### 19. Create a 8x8 matrix and fill it with a checkerboard pattern (★☆☆) \n",
        "(**hint**: array\\[::2\\])"
      ]
    },
    {
      "cell_type": "code",
      "execution_count": 32,
      "metadata": {
        "id": "ozE8hrzhpyQv",
        "outputId": "430160a3-fc8b-4e30-81ff-ef537adc38fb",
        "colab": {
          "base_uri": "https://localhost:8080/"
        }
      },
      "outputs": [
        {
          "output_type": "stream",
          "name": "stdout",
          "text": [
            "[[0 1 0 1 0 1 0 1]\n",
            " [1 0 1 0 1 0 1 0]\n",
            " [0 1 0 1 0 1 0 1]\n",
            " [1 0 1 0 1 0 1 0]\n",
            " [0 1 0 1 0 1 0 1]\n",
            " [1 0 1 0 1 0 1 0]\n",
            " [0 1 0 1 0 1 0 1]\n",
            " [1 0 1 0 1 0 1 0]]\n"
          ]
        }
      ],
      "source": [
        "CB = np.zeros((8,8),dtype=int)\n",
        "CB[1::2,::2] = 1\n",
        "CB[::2,1::2] = 1\n",
        "print(CB)"
      ]
    },
    {
      "cell_type": "markdown",
      "metadata": {
        "id": "Bn_A4sUWpyQw"
      },
      "source": [
        "#### 20. Consider a (6,7,8) shape array, what is the index (x,y,z) of the 100th element? \n",
        "(**hint**: np.unravel_index)"
      ]
    },
    {
      "cell_type": "code",
      "execution_count": 33,
      "metadata": {
        "id": "BHpXF2tppyQy",
        "outputId": "dc5b1a7a-715f-4797-e241-6b49c61e6b2c",
        "colab": {
          "base_uri": "https://localhost:8080/"
        }
      },
      "outputs": [
        {
          "output_type": "stream",
          "name": "stdout",
          "text": [
            "(1, 5, 4)\n"
          ]
        }
      ],
      "source": [
        "print(np.unravel_index(100,(6,7,8)))\n"
      ]
    },
    {
      "cell_type": "markdown",
      "metadata": {
        "id": "cH-3YQQYpyQy"
      },
      "source": [
        "#### 21. Create a checkerboard 8x8 matrix using the tile function (★☆☆) \n",
        "(**hint**: np.tile)"
      ]
    },
    {
      "cell_type": "code",
      "execution_count": 35,
      "metadata": {
        "id": "KW4U3t4KpyQz",
        "outputId": "03c7f0a9-8ff9-4f31-ce60-8cc36af43759",
        "colab": {
          "base_uri": "https://localhost:8080/"
        }
      },
      "outputs": [
        {
          "output_type": "stream",
          "name": "stdout",
          "text": [
            "[[0 1 0 1 0 1 0 1]\n",
            " [1 0 1 0 1 0 1 0]\n",
            " [0 1 0 1 0 1 0 1]\n",
            " [1 0 1 0 1 0 1 0]\n",
            " [0 1 0 1 0 1 0 1]\n",
            " [1 0 1 0 1 0 1 0]\n",
            " [0 1 0 1 0 1 0 1]\n",
            " [1 0 1 0 1 0 1 0]]\n"
          ]
        }
      ],
      "source": [
        "CB = np.tile(np.array([[0,1],[1,0]]),(4,4))\n",
        "print(CB)"
      ]
    },
    {
      "cell_type": "markdown",
      "metadata": {
        "id": "Gw1qBGhDpyQz"
      },
      "source": [
        "#### 22. Normalize a 5x5 random matrix (★☆☆) \n",
        "(**hint**: (x - min) / (max - min))"
      ]
    },
    {
      "cell_type": "code",
      "execution_count": 36,
      "metadata": {
        "id": "pZytGavFpyQ0",
        "outputId": "5d40c7f7-0336-4e6d-93b5-3208c96952fe",
        "colab": {
          "base_uri": "https://localhost:8080/"
        }
      },
      "outputs": [
        {
          "output_type": "stream",
          "name": "stdout",
          "text": [
            "[[0.39940816 0.00693245 0.94745056 0.21637078 0.4706084 ]\n",
            " [0.54790619 1.         0.71834122 0.03871318 0.55325481]\n",
            " [0.64756849 0.         0.22727125 0.84025788 0.80468052]\n",
            " [0.34281759 0.13833098 0.17659205 0.78205345 0.59629511]\n",
            " [0.47197903 0.55685656 0.11286603 0.16401025 0.82660231]]\n"
          ]
        }
      ],
      "source": [
        "arr = np.random.random((5,5))\n",
        "Normal = (arr - arr.min())/(arr.max() - arr.min())\n",
        "print(Normal)"
      ]
    },
    {
      "cell_type": "markdown",
      "metadata": {
        "id": "hd8oE8pFpyQ0"
      },
      "source": [
        "#### 23. Create a custom dtype that describes a color as four unsigned bytes (RGBA) (★☆☆) \n",
        "(**hint**: np.dtype)"
      ]
    },
    {
      "cell_type": "code",
      "execution_count": null,
      "metadata": {
        "collapsed": true,
        "id": "Ja3CLyFwpyQ1"
      },
      "outputs": [],
      "source": []
    },
    {
      "cell_type": "markdown",
      "metadata": {
        "id": "gbSS5X8ipyQ1"
      },
      "source": [
        "#### 24. Multiply a 5x3 matrix by a 3x2 matrix (real matrix product) (★☆☆) \n",
        "(**hint**: np.dot | @)"
      ]
    },
    {
      "cell_type": "code",
      "execution_count": 37,
      "metadata": {
        "id": "JD5AK7IapyQ2",
        "outputId": "dd956496-6c8d-4eb1-aff5-388a2510bba3",
        "colab": {
          "base_uri": "https://localhost:8080/"
        }
      },
      "outputs": [
        {
          "output_type": "stream",
          "name": "stdout",
          "text": [
            "[[0.2701011  0.21318308]\n",
            " [0.94795345 1.10609024]\n",
            " [0.52822104 0.23349878]\n",
            " [1.15829781 0.67980517]\n",
            " [0.70084268 0.59478534]]\n"
          ]
        }
      ],
      "source": [
        "one = np.random.random((5,3))\n",
        "two = np.random.random((3,2))\n",
        "result=np.dot(one,two)\n",
        "print(result)"
      ]
    },
    {
      "cell_type": "markdown",
      "metadata": {
        "id": "NhM3arucpyQ2"
      },
      "source": [
        "#### 25. Given a 1D array, negate all elements which are between 3 and 8, in place. (★☆☆) \n",
        "(**hint**: >, <=)"
      ]
    },
    {
      "cell_type": "code",
      "execution_count": 38,
      "metadata": {
        "id": "CHtan7-ppyQ3",
        "outputId": "54e315b2-e30d-421b-f524-85e80f84c591",
        "colab": {
          "base_uri": "https://localhost:8080/"
        }
      },
      "outputs": [
        {
          "output_type": "stream",
          "name": "stdout",
          "text": [
            "[ 0  1  2  3 -4 -5 -6 -7  8  9 10]\n"
          ]
        }
      ],
      "source": [
        "negation = np.arange(11)\n",
        "negation[(3 < negation) & (negation <= 7)] *= -1\n",
        "print(negation)"
      ]
    },
    {
      "cell_type": "markdown",
      "metadata": {
        "id": "Xqzx-TA5pyQ3"
      },
      "source": [
        "#### 26. What is the output of the following script? (★☆☆) \n",
        "(**hint**: np.sum)"
      ]
    },
    {
      "cell_type": "markdown",
      "metadata": {
        "id": "jC5QlMSGpyQ5"
      },
      "source": [
        "```python\n",
        "# Author: Jake VanderPlas\n",
        "\n",
        "print(sum(range(5),-1))\n",
        "from numpy import *\n",
        "print(sum(range(5),-1))\n",
        "```"
      ]
    },
    {
      "cell_type": "code",
      "execution_count": 39,
      "metadata": {
        "id": "M-BPlFnRpyQ6",
        "outputId": "fd851509-b949-4e2c-9cda-0cf8e9a79536",
        "colab": {
          "base_uri": "https://localhost:8080/"
        }
      },
      "outputs": [
        {
          "output_type": "stream",
          "name": "stdout",
          "text": [
            "9\n",
            "10\n"
          ]
        }
      ],
      "source": [
        "print(sum(range(5),-1))\n",
        "from numpy import *\n",
        "print(sum(range(5),-1))"
      ]
    },
    {
      "cell_type": "markdown",
      "metadata": {
        "id": "yGv-c_EkpyQ6"
      },
      "source": [
        "#### 27. Consider an integer vector Z, which of these expressions are legal? (★☆☆)"
      ]
    },
    {
      "cell_type": "markdown",
      "metadata": {
        "id": "Asx_TjAppyQ7"
      },
      "source": [
        "```python\n",
        "Z**Z\n",
        "2 << Z >> 2\n",
        "Z <- Z\n",
        "1j*Z\n",
        "Z/1/1\n",
        "Z<Z>Z\n",
        "```"
      ]
    },
    {
      "cell_type": "code",
      "execution_count": 25,
      "metadata": {
        "id": "TJv3_Kl_pyQ8",
        "outputId": "406d96c3-939b-4643-d0c8-587abc5890ac",
        "colab": {
          "base_uri": "https://localhost:8080/",
          "height": 287
        }
      },
      "outputs": [
        {
          "output_type": "stream",
          "name": "stdout",
          "text": [
            "[        1       256 387420489]\n",
            "[  1   8 256]\n",
            "[False False False]\n",
            "[0.+1.j 0.+4.j 0.+9.j]\n",
            "[1. 4. 9.]\n"
          ]
        },
        {
          "output_type": "error",
          "ename": "ValueError",
          "evalue": "ignored",
          "traceback": [
            "\u001b[0;31m---------------------------------------------------------------------------\u001b[0m",
            "\u001b[0;31mValueError\u001b[0m                                Traceback (most recent call last)",
            "\u001b[0;32m<ipython-input-25-0f02439031c1>\u001b[0m in \u001b[0;36m<module>\u001b[0;34m\u001b[0m\n\u001b[1;32m      5\u001b[0m \u001b[0mprint\u001b[0m\u001b[0;34m(\u001b[0m\u001b[0;36m1j\u001b[0m\u001b[0;34m*\u001b[0m\u001b[0mZ\u001b[0m\u001b[0;34m)\u001b[0m\u001b[0;34m\u001b[0m\u001b[0;34m\u001b[0m\u001b[0m\n\u001b[1;32m      6\u001b[0m \u001b[0mprint\u001b[0m\u001b[0;34m(\u001b[0m\u001b[0mZ\u001b[0m\u001b[0;34m/\u001b[0m\u001b[0;36m1\u001b[0m\u001b[0;34m/\u001b[0m\u001b[0;36m1\u001b[0m\u001b[0;34m)\u001b[0m\u001b[0;34m\u001b[0m\u001b[0;34m\u001b[0m\u001b[0m\n\u001b[0;32m----> 7\u001b[0;31m \u001b[0mprint\u001b[0m\u001b[0;34m(\u001b[0m\u001b[0mZ\u001b[0m\u001b[0;34m<\u001b[0m\u001b[0mZ\u001b[0m\u001b[0;34m>\u001b[0m\u001b[0mZ\u001b[0m\u001b[0;34m)\u001b[0m\u001b[0;34m\u001b[0m\u001b[0;34m\u001b[0m\u001b[0m\n\u001b[0m",
            "\u001b[0;31mValueError\u001b[0m: The truth value of an array with more than one element is ambiguous. Use a.any() or a.all()"
          ]
        }
      ],
      "source": [
        "Z=np.array([1,4,9],dtype=int)\n",
        "print(Z**Z)\n",
        "print(2 << Z >> 2)\n",
        "print(Z <- Z)\n",
        "print(1j*Z)\n",
        "print(Z/1/1)\n",
        "print(Z<Z>Z)\n"
      ]
    },
    {
      "cell_type": "markdown",
      "metadata": {
        "id": "Km4yzxs1pyQ8"
      },
      "source": [
        "#### 28. What are the result of the following expressions?"
      ]
    },
    {
      "cell_type": "markdown",
      "metadata": {
        "id": "Fp6TPQvCpyQ9"
      },
      "source": [
        "```python\n",
        "np.array(0) / np.array(0)\n",
        "np.array(0) // np.array(0)\n",
        "np.array([np.nan]).astype(int).astype(float)\n",
        "```"
      ]
    },
    {
      "cell_type": "code",
      "execution_count": 41,
      "metadata": {
        "id": "ZCNpKObapyQ9",
        "outputId": "44acb79d-2268-489f-aae6-7fe0d68aeccf",
        "colab": {
          "base_uri": "https://localhost:8080/"
        }
      },
      "outputs": [
        {
          "output_type": "stream",
          "name": "stdout",
          "text": [
            "nan\n",
            "0\n",
            "[-9.22337204e+18]\n",
            "\n",
            "\n"
          ]
        },
        {
          "output_type": "stream",
          "name": "stderr",
          "text": [
            "/usr/local/lib/python3.7/dist-packages/ipykernel_launcher.py:1: RuntimeWarning: invalid value encountered in true_divide\n",
            "  \"\"\"Entry point for launching an IPython kernel.\n",
            "/usr/local/lib/python3.7/dist-packages/ipykernel_launcher.py:2: RuntimeWarning: divide by zero encountered in floor_divide\n",
            "  \n"
          ]
        }
      ],
      "source": [
        "print(np.array(0) / np.array(0))\n",
        "print(np.array(0) // np.array(0))\n",
        "print(np.array([np.nan]).astype(int).astype(float))\n",
        "print(\"\\n\")"
      ]
    },
    {
      "cell_type": "markdown",
      "metadata": {
        "id": "qH2hiAUkpyQ9"
      },
      "source": [
        "#### 29. How to round away from zero a float array ? (★☆☆) \n",
        "(**hint**: np.uniform, np.copysign, np.ceil, np.abs)"
      ]
    },
    {
      "cell_type": "code",
      "execution_count": 42,
      "metadata": {
        "id": "tnanXf8ppyQ-",
        "outputId": "cff3265d-ff56-47a8-ec07-0b9b6833b6b0",
        "colab": {
          "base_uri": "https://localhost:8080/"
        }
      },
      "outputs": [
        {
          "output_type": "execute_result",
          "data": {
            "text/plain": [
              "array([-5., -6.,  5., -4.,  2.,  3., -8.,  4.,  1., -7.])"
            ]
          },
          "metadata": {},
          "execution_count": 42
        }
      ],
      "source": [
        "round = np.random.uniform(-10, +10, 10)\n",
        "np.copysign(np.ceil(np.abs(round)),round)"
      ]
    },
    {
      "cell_type": "markdown",
      "metadata": {
        "id": "4VxC5_EjpyQ-"
      },
      "source": [
        "#### 30. How to find common values between two arrays? (★☆☆) \n",
        "(**hint**: np.intersect1d)"
      ]
    },
    {
      "cell_type": "code",
      "execution_count": 44,
      "metadata": {
        "id": "BokWDdgIpyQ_",
        "outputId": "2a2873d5-7751-4481-a9e3-5ccb0dd6f2df",
        "colab": {
          "base_uri": "https://localhost:8080/"
        }
      },
      "outputs": [
        {
          "output_type": "stream",
          "name": "stdout",
          "text": [
            "[0 2]\n"
          ]
        }
      ],
      "source": [
        "comman1 =np.array([0, 1, 2, 3, 4])\n",
        "comman2 =np.array([9, 6, 2, 5, 0])\n",
        "print(np.intersect1d(comman1, comman2))"
      ]
    },
    {
      "cell_type": "markdown",
      "metadata": {
        "id": "FiwKtCC9pyQ_"
      },
      "source": [
        "#### 31. How to ignore all numpy warnings (not recommended)? (★☆☆) \n",
        "(**hint**: np.seterr, np.errstate)"
      ]
    },
    {
      "cell_type": "code",
      "execution_count": null,
      "metadata": {
        "id": "NngQAV2apyRA"
      },
      "outputs": [],
      "source": []
    },
    {
      "cell_type": "markdown",
      "metadata": {
        "id": "aCxwpy00pyRA"
      },
      "source": [
        "#### 32. Is the following expressions true? (★☆☆) \n",
        "(**hint**: imaginary number)"
      ]
    },
    {
      "cell_type": "markdown",
      "metadata": {
        "id": "zrXENsi6pyRB"
      },
      "source": [
        "```python\n",
        "np.sqrt(-1) == np.emath.sqrt(-1)\n",
        "```"
      ]
    },
    {
      "cell_type": "code",
      "execution_count": 3,
      "metadata": {
        "id": "ZHOasB0DpyRB",
        "outputId": "c580b8ce-5bbf-4060-b086-fef45fbd57ee",
        "colab": {
          "base_uri": "https://localhost:8080/"
        }
      },
      "outputs": [
        {
          "output_type": "stream",
          "name": "stdout",
          "text": [
            "False\n"
          ]
        },
        {
          "output_type": "stream",
          "name": "stderr",
          "text": [
            "/usr/local/lib/python3.7/dist-packages/ipykernel_launcher.py:1: RuntimeWarning: invalid value encountered in sqrt\n",
            "  \"\"\"Entry point for launching an IPython kernel.\n"
          ]
        }
      ],
      "source": [
        "print(np.sqrt(-1) == np.emath.sqrt(-1))"
      ]
    },
    {
      "cell_type": "markdown",
      "metadata": {
        "id": "idi1u1VHpyRC"
      },
      "source": [
        "#### 33. How to get the dates of yesterday, today and tomorrow? (★☆☆) \n",
        "(**hint**: np.datetime64, np.timedelta64)"
      ]
    },
    {
      "cell_type": "code",
      "execution_count": 4,
      "metadata": {
        "collapsed": true,
        "id": "NEIwHmlIpyRC",
        "outputId": "18680779-ff0f-4c92-f6d7-30225e65ddf1",
        "colab": {
          "base_uri": "https://localhost:8080/"
        }
      },
      "outputs": [
        {
          "output_type": "stream",
          "name": "stdout",
          "text": [
            "Today's date is :  2022-10-30\n",
            "Yesterday's date is :  2022-10-29\n",
            "Tomorrow's date is :  2022-10-31\n"
          ]
        }
      ],
      "source": [
        "today = np.datetime64('today', 'D')\n",
        "print(\"Today's date is : \", today)\n",
        "yesterday = np.datetime64('today', 'D')- np.timedelta64(1, 'D') \n",
        "print(\"Yesterday's date is : \", yesterday)\n",
        "tomorrow = np.datetime64('today', 'D')+ np.timedelta64(1, 'D')  \n",
        "print(\"Tomorrow's date is : \", tomorrow)"
      ]
    },
    {
      "cell_type": "markdown",
      "metadata": {
        "id": "1W-2DtBApyRD"
      },
      "source": [
        "#### 34. How to get all the dates corresponding to the month of July 2016? (★★☆) \n",
        "(**hint**: np.arange(dtype=datetime64\\['D'\\]))"
      ]
    },
    {
      "cell_type": "code",
      "execution_count": 5,
      "metadata": {
        "id": "nva4sKcDpyRD",
        "outputId": "7932a0b2-74c4-44f4-9098-20632d13557d",
        "colab": {
          "base_uri": "https://localhost:8080/"
        }
      },
      "outputs": [
        {
          "output_type": "stream",
          "name": "stdout",
          "text": [
            "['2016-07-01' '2016-07-02' '2016-07-03' '2016-07-04' '2016-07-05'\n",
            " '2016-07-06' '2016-07-07' '2016-07-08' '2016-07-09' '2016-07-10'\n",
            " '2016-07-11' '2016-07-12' '2016-07-13' '2016-07-14' '2016-07-15'\n",
            " '2016-07-16' '2016-07-17' '2016-07-18' '2016-07-19' '2016-07-20'\n",
            " '2016-07-21' '2016-07-22' '2016-07-23' '2016-07-24' '2016-07-25'\n",
            " '2016-07-26' '2016-07-27' '2016-07-28' '2016-07-29' '2016-07-30'\n",
            " '2016-07-31']\n"
          ]
        }
      ],
      "source": [
        "July = np.arange('2016-07', '2016-08', dtype='datetime64[D]')\n",
        "print(July)"
      ]
    },
    {
      "cell_type": "markdown",
      "metadata": {
        "id": "QWwaiIGhpyRE"
      },
      "source": [
        "#### 35. How to compute ((A+B)\\*(-A/2)) in place (without copy)? (★★☆) \n",
        "(**hint**: np.add(out=), np.negative(out=), np.multiply(out=), np.divide(out=))"
      ]
    },
    {
      "cell_type": "code",
      "execution_count": 6,
      "metadata": {
        "id": "WzFrGTS5pyRE",
        "outputId": "2f45e104-2f31-409c-b8c8-2cf4c8b3f7b6",
        "colab": {
          "base_uri": "https://localhost:8080/"
        }
      },
      "outputs": [
        {
          "output_type": "execute_result",
          "data": {
            "text/plain": [
              "array([-1.5, -1.5])"
            ]
          },
          "metadata": {},
          "execution_count": 6
        }
      ],
      "source": [
        "one = np.ones(2)*1\n",
        "two = np.ones(2)*2\n",
        "np.add(one,two,out=two)\n",
        "np.divide(one,2,out=one)\n",
        "np.negative(one,out=one)\n",
        "np.multiply(one,two,out=one)"
      ]
    },
    {
      "cell_type": "markdown",
      "metadata": {
        "id": "H_Iw9bQapyRF"
      },
      "source": [
        "#### 36. Extract the integer part of a random array using 5 different methods (★★☆) \n",
        "(**hint**: %, np.floor, np.ceil, astype, np.trunc)"
      ]
    },
    {
      "cell_type": "code",
      "execution_count": 7,
      "metadata": {
        "id": "Dj_5snbhpyRF",
        "outputId": "856f08c6-2fb0-473b-9aa3-e2fec1162356",
        "colab": {
          "base_uri": "https://localhost:8080/"
        }
      },
      "outputs": [
        {
          "output_type": "stream",
          "name": "stdout",
          "text": [
            "[3. 4. 8. 0. 3. 4. 0. 4. 9. 3.]\n",
            "[3. 4. 8. 0. 3. 4. 0. 4. 9. 3.]\n",
            "[3. 4. 8. 0. 3. 4. 0. 4. 9. 3.]\n",
            "[3 4 8 0 3 4 0 4 9 3]\n",
            "[3. 4. 8. 0. 3. 4. 0. 4. 9. 3.]\n"
          ]
        }
      ],
      "source": [
        "Extract = np.random.uniform(0,10,10)\n",
        "\n",
        "print (Extract - Extract%1)\n",
        "print (np.floor(Extract))\n",
        "print (np.ceil(Extract)-1)\n",
        "print (Extract.astype(int))\n",
        "print (np.trunc(Extract))"
      ]
    },
    {
      "cell_type": "markdown",
      "metadata": {
        "id": "TPic9eXTpyRG"
      },
      "source": [
        "#### 37. Create a 5x5 matrix with row values ranging from 0 to 4 (★★☆) \n",
        "(**hint**: np.arange)"
      ]
    },
    {
      "cell_type": "code",
      "execution_count": 9,
      "metadata": {
        "id": "Am5QARWepyRG",
        "outputId": "27f93b54-5a6d-4758-ea91-e71ee6f1db12",
        "colab": {
          "base_uri": "https://localhost:8080/"
        }
      },
      "outputs": [
        {
          "output_type": "stream",
          "name": "stdout",
          "text": [
            "[[0 1 2 3 4]\n",
            " [0 1 2 3 4]\n",
            " [0 1 2 3 4]\n",
            " [0 1 2 3 4]\n",
            " [0 1 2 3 4]]\n"
          ]
        }
      ],
      "source": [
        "mat = np.zeros((5,5),dtype=int)\n",
        "mat = mat + np.arange(5)\n",
        "print(mat)"
      ]
    },
    {
      "cell_type": "markdown",
      "metadata": {
        "id": "tylhmOahpyRH"
      },
      "source": [
        "#### 38. Consider a generator function that generates 10 integers and use it to build an array (★☆☆) \n",
        "(**hint**: np.fromiter)"
      ]
    },
    {
      "cell_type": "code",
      "execution_count": null,
      "metadata": {
        "id": "8z3wc5tgpyRK"
      },
      "outputs": [],
      "source": []
    },
    {
      "cell_type": "markdown",
      "metadata": {
        "id": "U5lhdIgBpyRK"
      },
      "source": [
        "#### 39. Create a vector of size 10 with values ranging from 0 to 1, both excluded (★★☆) \n",
        "(**hint**: np.linspace)"
      ]
    },
    {
      "cell_type": "code",
      "execution_count": 10,
      "metadata": {
        "id": "OUkKngh5pyRL",
        "outputId": "5d3bb00e-8971-4a18-8f4c-36541e8731cd",
        "colab": {
          "base_uri": "https://localhost:8080/"
        }
      },
      "outputs": [
        {
          "output_type": "stream",
          "name": "stdout",
          "text": [
            "[0.         0.11111111 0.22222222 0.33333333 0.44444444 0.55555556\n",
            " 0.66666667 0.77777778 0.88888889 1.        ]\n"
          ]
        }
      ],
      "source": [
        "linespace=np.linspace(0,1,10)\n",
        "print(linespace)"
      ]
    },
    {
      "cell_type": "markdown",
      "metadata": {
        "id": "yCSO2lBHpyRL"
      },
      "source": [
        "#### 40. Create a random vector of size 10 and sort it (★★☆) \n",
        "(**hint**: sort)"
      ]
    },
    {
      "cell_type": "code",
      "execution_count": 11,
      "metadata": {
        "id": "LJpTXRTdpyRM",
        "outputId": "92b4f6c0-38e4-4c8f-c5c1-48c0876e14b1",
        "colab": {
          "base_uri": "https://localhost:8080/"
        }
      },
      "outputs": [
        {
          "output_type": "stream",
          "name": "stdout",
          "text": [
            "[0.04956142 0.08192023 0.10633814 0.16342087 0.4310416  0.48438518\n",
            " 0.54450284 0.59590043 0.73250799 0.94684112]\n"
          ]
        }
      ],
      "source": [
        "sorting =np.random.random(10)\n",
        "sorting.sort()\n",
        "print(sorting)"
      ]
    },
    {
      "cell_type": "markdown",
      "metadata": {
        "id": "phvdsIvYpyRM"
      },
      "source": [
        "#### 41. How to sum a small array faster than np.sum? (★★☆) \n",
        "(**hint**: np.add.reduce)"
      ]
    },
    {
      "cell_type": "code",
      "execution_count": 13,
      "metadata": {
        "id": "Lwx0rPVXpyRN",
        "outputId": "d7e0269f-e259-4aad-8af7-dcf415e79d7e",
        "colab": {
          "base_uri": "https://localhost:8080/"
        }
      },
      "outputs": [
        {
          "output_type": "stream",
          "name": "stdout",
          "text": [
            "105\n"
          ]
        }
      ],
      "source": [
        "addition=np.arange(15)\n",
        "print(np.add.reduce(addition))"
      ]
    },
    {
      "cell_type": "markdown",
      "metadata": {
        "id": "YC5lSxRKpyRN"
      },
      "source": [
        "#### 42. Consider two random array A and B, check if they are equal (★★☆) \n",
        "(**hint**: np.allclose, np.array\\_equal)"
      ]
    },
    {
      "cell_type": "code",
      "execution_count": 14,
      "metadata": {
        "id": "PU2ugxxUpyRN",
        "outputId": "fc12d6ee-db7e-4dce-f8c7-a43a0ac52ddb",
        "colab": {
          "base_uri": "https://localhost:8080/"
        }
      },
      "outputs": [
        {
          "output_type": "stream",
          "name": "stdout",
          "text": [
            "True\n",
            "False\n"
          ]
        }
      ],
      "source": [
        "A =np.array([1,2,3,4,5,6])\n",
        "B= np.array([1,2,3,4,5,6])\n",
        "print(np.allclose(A,B))\n",
        "C =np.array([1,2,3,4,9,6])\n",
        "D= np.array([1,10,3,4,5,6])\n",
        "print(np.array_equal(C,D))\n"
      ]
    },
    {
      "cell_type": "markdown",
      "metadata": {
        "id": "L6InQ4JupyRO"
      },
      "source": [
        "#### 43. Make an array immutable (read-only) (★★☆) \n",
        "(**hint**: flags.writeable)"
      ]
    },
    {
      "cell_type": "code",
      "execution_count": null,
      "metadata": {
        "id": "w-DMQ_FmpyRO"
      },
      "outputs": [],
      "source": []
    },
    {
      "cell_type": "markdown",
      "metadata": {
        "id": "o2n3hCdGpyRP"
      },
      "source": [
        "#### 44. Consider a random 10x2 matrix representing cartesian coordinates, convert them to polar coordinates (★★☆) \n",
        "(**hint**: np.sqrt, np.arctan2)"
      ]
    },
    {
      "cell_type": "code",
      "execution_count": null,
      "metadata": {
        "id": "9hnDzHp3pyRP"
      },
      "outputs": [],
      "source": []
    },
    {
      "cell_type": "markdown",
      "metadata": {
        "id": "aKuXwpjHpyRQ"
      },
      "source": [
        "#### 45. Create random vector of size 10 and replace the maximum value by 0 (★★☆) \n",
        "(**hint**: argmax)"
      ]
    },
    {
      "cell_type": "code",
      "execution_count": 16,
      "metadata": {
        "id": "JN26F-oqpyRQ",
        "outputId": "f72972ff-23ff-4e5a-8595-cee1153c80fd",
        "colab": {
          "base_uri": "https://localhost:8080/"
        }
      },
      "outputs": [
        {
          "output_type": "stream",
          "name": "stdout",
          "text": [
            "[0.58594234 0.60363381 0.43193315 0.69406318 0.52969068 0.61385266\n",
            " 0.82773164 0.30890559 0.26227941 0.        ]\n"
          ]
        }
      ],
      "source": [
        "RV= np.random.random(10)\n",
        "RV[RV.argmax()] = 0\n",
        "print(RV)"
      ]
    },
    {
      "cell_type": "markdown",
      "metadata": {
        "id": "uxpbEGZ9pyRQ"
      },
      "source": [
        "#### 46. Create a structured array with `x` and `y` coordinates covering the \\[0,1\\]x\\[0,1\\] area (★★☆) \n",
        "(**hint**: np.meshgrid)"
      ]
    },
    {
      "cell_type": "code",
      "execution_count": null,
      "metadata": {
        "id": "Ma-v09EVpyRR"
      },
      "outputs": [],
      "source": []
    },
    {
      "cell_type": "markdown",
      "metadata": {
        "id": "HwF41rgLpyRR"
      },
      "source": [
        "####  47. Given two arrays, X and Y, construct the Cauchy matrix C (Cij =1/(xi - yj)) \n",
        "(**hint**: np.subtract.outer)"
      ]
    },
    {
      "cell_type": "code",
      "execution_count": 19,
      "metadata": {
        "id": "Z6YVK6BApyRS",
        "outputId": "e36ff3b5-a8ea-4421-d96c-0aee5d564595",
        "colab": {
          "base_uri": "https://localhost:8080/"
        }
      },
      "outputs": [
        {
          "output_type": "execute_result",
          "data": {
            "text/plain": [
              "array([[ 49.78053731,  12.61046161],\n",
              "       [ 51.35988332, 158.61785105]])"
            ]
          },
          "metadata": {},
          "execution_count": 19
        }
      ],
      "source": [
        "x_value = np.random.random((2,2))\n",
        "y_value = np.random.random((2,2))\n",
        "result = 1 / (x_value-y_value)\n",
        "result = 1 / np.subtract.outer(x_value,y_value)\n",
        "np.linalg.det(result)"
      ]
    },
    {
      "cell_type": "markdown",
      "metadata": {
        "id": "Gh6vXl3CpyRS"
      },
      "source": [
        "#### 48. Print the minimum and maximum representable value for each numpy scalar type (★★☆) \n",
        "(**hint**: np.iinfo, np.finfo, eps)"
      ]
    },
    {
      "cell_type": "code",
      "execution_count": 20,
      "metadata": {
        "id": "irGVjDz7pyRT",
        "outputId": "3132de09-8c30-4d54-ddfd-95a94c91b224",
        "colab": {
          "base_uri": "https://localhost:8080/"
        }
      },
      "outputs": [
        {
          "output_type": "stream",
          "name": "stdout",
          "text": [
            "-128\n",
            "127\n",
            "-2147483648\n",
            "2147483647\n",
            "-9223372036854775808\n",
            "9223372036854775807\n",
            "-3.4028235e+38\n",
            "3.4028235e+38\n",
            "1.1920929e-07\n",
            "-1.7976931348623157e+308\n",
            "1.7976931348623157e+308\n",
            "2.220446049250313e-16\n"
          ]
        }
      ],
      "source": [
        "for dtype in [np.int8, np.int32, np.int64]:\n",
        "   print(np.iinfo(dtype).min)\n",
        "   print(np.iinfo(dtype).max)\n",
        "for dtype in [np.float32, np.float64]:\n",
        "   print(np.finfo(dtype).min)\n",
        "   print(np.finfo(dtype).max)\n",
        "   print(np.finfo(dtype).eps)"
      ]
    },
    {
      "cell_type": "markdown",
      "metadata": {
        "id": "_KJuqfWtpyRT"
      },
      "source": [
        "#### 49. How to print all the values of an array? (★★☆) \n",
        "(**hint**: np.set\\_printoptions)"
      ]
    },
    {
      "cell_type": "code",
      "execution_count": 22,
      "metadata": {
        "id": "joo_EkvPpyRT",
        "outputId": "b92666b6-31b9-4b45-933f-db13439306d6",
        "colab": {
          "base_uri": "https://localhost:8080/"
        }
      },
      "outputs": [
        {
          "output_type": "stream",
          "name": "stdout",
          "text": [
            "[[1 1 1 1 1]\n",
            " [1 1 1 1 1]\n",
            " [1 1 1 1 1]\n",
            " [1 1 1 1 1]\n",
            " [1 1 1 1 1]]\n"
          ]
        }
      ],
      "source": [
        "np.set_printoptions(threshold=float(\"inf\"))\n",
        "arr= np.ones((5,5),dtype=int)\n",
        "print(arr)"
      ]
    },
    {
      "cell_type": "markdown",
      "metadata": {
        "id": "zUW4NfkwpyRU"
      },
      "source": [
        "#### 50. How to find the closest value (to a given scalar) in a vector? (★★☆) \n",
        "(**hint**: argmin)"
      ]
    },
    {
      "cell_type": "code",
      "execution_count": 23,
      "metadata": {
        "id": "-GXkbJHBpyRU",
        "outputId": "87648b89-a079-40b1-8b55-72ca5f2d8059",
        "colab": {
          "base_uri": "https://localhost:8080/"
        }
      },
      "outputs": [
        {
          "output_type": "stream",
          "name": "stdout",
          "text": [
            "83\n"
          ]
        }
      ],
      "source": [
        "value1= np.arange(100)\n",
        "value2 = np.random.uniform(0,100)\n",
        "index = (np.abs(value1-value2)).argmin()\n",
        "print(value1[index])"
      ]
    },
    {
      "cell_type": "markdown",
      "metadata": {
        "id": "1Ny3P7MIpyRV"
      },
      "source": [
        "#### 51. Create a structured array representing a position (x,y) and a color (r,g,b) (★★☆) \n",
        "(**hint**: dtype)"
      ]
    },
    {
      "cell_type": "code",
      "execution_count": null,
      "metadata": {
        "id": "whxLnVDvpyRV"
      },
      "outputs": [],
      "source": []
    },
    {
      "cell_type": "markdown",
      "metadata": {
        "id": "n_1oMtegpyRV"
      },
      "source": [
        "#### 52. Consider a random vector with shape (100,2) representing coordinates, find point by point distances (★★☆) \n",
        "(**hint**: np.atleast\\_2d, T, np.sqrt)"
      ]
    },
    {
      "cell_type": "code",
      "execution_count": null,
      "metadata": {
        "id": "seGw5-3npyRW"
      },
      "outputs": [],
      "source": []
    },
    {
      "cell_type": "markdown",
      "metadata": {
        "id": "LqiwyOyKpyRW"
      },
      "source": [
        "#### 53. How to convert a float (32 bits) array into an integer (32 bits) in place? \n",
        "(**hint**: astype(copy=False))"
      ]
    },
    {
      "cell_type": "code",
      "execution_count": 24,
      "metadata": {
        "id": "fQIzwwFtpyRX",
        "outputId": "786aa318-423f-4e04-95b1-85f88b7f3df1",
        "colab": {
          "base_uri": "https://localhost:8080/"
        }
      },
      "outputs": [
        {
          "output_type": "stream",
          "name": "stdout",
          "text": [
            "[0. 1. 2. 3. 4. 5. 6. 7. 8. 9.]\n"
          ]
        }
      ],
      "source": [
        "Convert= np.arange(10, dtype=np.int32)\n",
        "Convert = Convert.astype(np.float32, copy=False)\n",
        "print(Convert)"
      ]
    },
    {
      "cell_type": "markdown",
      "metadata": {
        "id": "oht-UCHepyRX"
      },
      "source": [
        "#### 54. How to read the following file? (★★☆) \n",
        "(**hint**: np.genfromtxt)"
      ]
    },
    {
      "cell_type": "markdown",
      "metadata": {
        "id": "Ot9OSRXDpyRY"
      },
      "source": [
        "```\n",
        "1, 2, 3, 4, 5\n",
        "6,  ,  , 7, 8\n",
        " ,  , 9,10,11\n",
        "```"
      ]
    },
    {
      "cell_type": "code",
      "execution_count": null,
      "metadata": {
        "id": "3b3zsnUVpyRY"
      },
      "outputs": [],
      "source": []
    },
    {
      "cell_type": "markdown",
      "metadata": {
        "id": "2OVK3Q2dpyRZ"
      },
      "source": [
        "#### 55. What is the equivalent of enumerate for numpy arrays? (★★☆) \n",
        "(**hint**: np.ndenumerate, np.ndindex)"
      ]
    },
    {
      "cell_type": "code",
      "execution_count": 25,
      "metadata": {
        "id": "j8-BqQm-pyRZ",
        "outputId": "58666360-7779-403a-982e-70c20e294361",
        "colab": {
          "base_uri": "https://localhost:8080/"
        }
      },
      "outputs": [
        {
          "output_type": "stream",
          "name": "stdout",
          "text": [
            "(0, 0) 0\n",
            "(0, 1) 1\n",
            "(0, 2) 2\n",
            "(1, 0) 3\n",
            "(1, 1) 4\n",
            "(1, 2) 5\n",
            "(2, 0) 6\n",
            "(2, 1) 7\n",
            "(2, 2) 8\n",
            "(0, 0) 0\n",
            "(0, 1) 1\n",
            "(0, 2) 2\n",
            "(1, 0) 3\n",
            "(1, 1) 4\n",
            "(1, 2) 5\n",
            "(2, 0) 6\n",
            "(2, 1) 7\n",
            "(2, 2) 8\n"
          ]
        }
      ],
      "source": [
        "listed = np.arange(9).reshape(3,3)\n",
        "for i, j in np.ndenumerate(listed):\n",
        "    print(i,j)\n",
        "for i in np.ndindex(listed.shape):\n",
        "    print(i, listed[i])"
      ]
    },
    {
      "cell_type": "markdown",
      "metadata": {
        "id": "WCaFtVGApyRa"
      },
      "source": [
        "#### 56. Generate a generic 2D Gaussian-like array (★★☆) \n",
        "(**hint**: np.meshgrid, np.exp)"
      ]
    },
    {
      "cell_type": "code",
      "execution_count": null,
      "metadata": {
        "id": "gSNXNSMxpyRb"
      },
      "outputs": [],
      "source": []
    },
    {
      "cell_type": "markdown",
      "metadata": {
        "id": "gOsNOS-zpyRc"
      },
      "source": [
        "#### 57. How to randomly place p elements in a 2D array? (★★☆) \n",
        "(**hint**: np.put, np.random.choice)"
      ]
    },
    {
      "cell_type": "code",
      "execution_count": 26,
      "metadata": {
        "id": "k8U0YQAdpyRd",
        "outputId": "d01b8e08-c48c-418e-ffa4-68d509d679c9",
        "colab": {
          "base_uri": "https://localhost:8080/"
        }
      },
      "outputs": [
        {
          "output_type": "stream",
          "name": "stdout",
          "text": [
            "[[0. 0. 0. 0. 0.]\n",
            " [0. 0. 0. 0. 0.]\n",
            " [0. 0. 0. 0. 0.]\n",
            " [1. 1. 0. 0. 1.]\n",
            " [0. 0. 0. 0. 0.]]\n"
          ]
        }
      ],
      "source": [
        "value = 5\n",
        "point= 3\n",
        "arr = np.zeros((value,value))\n",
        "np.put(arr, np.random.choice(range(value*value),point,replace=False),1)\n",
        "print(arr)"
      ]
    },
    {
      "cell_type": "markdown",
      "metadata": {
        "id": "7OibXt2JpyRe"
      },
      "source": [
        "#### 58. Subtract the mean of each row of a matrix (★★☆) \n",
        "(**hint**: mean(axis=,keepdims=))"
      ]
    },
    {
      "cell_type": "code",
      "execution_count": 27,
      "metadata": {
        "id": "Wx7CjJCXpyRe",
        "outputId": "06b470ca-8c93-4565-8e2e-c0590632248e",
        "colab": {
          "base_uri": "https://localhost:8080/"
        }
      },
      "outputs": [
        {
          "output_type": "stream",
          "name": "stdout",
          "text": [
            "[[-0.28844075 -0.07206889  0.16718439  0.18972314  0.49194651 -0.36406783\n",
            "  -0.38290202 -0.3133506   0.05345862  0.51851743]\n",
            " [ 0.02867501  0.02819351 -0.11219483 -0.38226018  0.08334699  0.00052246\n",
            "  -0.04415299  0.32819243  0.17916482 -0.10948722]\n",
            " [-0.31022205  0.15035701  0.20008884  0.21071134 -0.18799107 -0.27806078\n",
            "  -0.37570787  0.21780977  0.32447754  0.04853727]\n",
            " [ 0.33351658  0.41807433 -0.03517371  0.18088425 -0.14897457 -0.30163507\n",
            "  -0.44027977 -0.34351305  0.13428368  0.20281732]\n",
            " [-0.26300357  0.24682146  0.20345927 -0.28977102 -0.42873123 -0.16582656\n",
            "   0.17133439  0.43130706  0.23882096 -0.14441076]]\n"
          ]
        }
      ],
      "source": [
        "value= np.random.rand(5,10)\n",
        "result = value-value.mean(axis=1,keepdims=True)\n",
        "print(result)"
      ]
    },
    {
      "cell_type": "markdown",
      "metadata": {
        "id": "7Y2NxJ-RpyRf"
      },
      "source": [
        "#### 59. How to sort an array by the nth column? (★★☆) \n",
        "(**hint**: argsort)"
      ]
    },
    {
      "cell_type": "code",
      "execution_count": 28,
      "metadata": {
        "id": "2c20i5AhpyRf",
        "outputId": "d0b91d52-961c-4c10-c928-7f0c18fb250f",
        "colab": {
          "base_uri": "https://localhost:8080/"
        }
      },
      "outputs": [
        {
          "output_type": "stream",
          "name": "stdout",
          "text": [
            "[[21 21 22]\n",
            " [ 3 10 22]\n",
            " [15  5  4]]\n",
            "[[15  5  4]\n",
            " [ 3 10 22]\n",
            " [21 21 22]]\n"
          ]
        }
      ],
      "source": [
        "sort_col= np.random.randint(1,25,(3,3))\n",
        "print(sort_col)\n",
        "print(sort_col[sort_col[:,1].argsort()])"
      ]
    },
    {
      "cell_type": "markdown",
      "metadata": {
        "id": "LUyeC-m9pyRf"
      },
      "source": [
        "#### 60. How to tell if a given 2D array has null columns? (★★☆) \n",
        "(**hint**: any, ~)"
      ]
    },
    {
      "cell_type": "code",
      "execution_count": 29,
      "metadata": {
        "id": "3Om2AVzNpyRg",
        "outputId": "09860ed2-6075-4407-c795-198d4ac0edc1",
        "colab": {
          "base_uri": "https://localhost:8080/"
        }
      },
      "outputs": [
        {
          "output_type": "stream",
          "name": "stdout",
          "text": [
            "False\n"
          ]
        }
      ],
      "source": [
        "two_D= np.random.randint(1,3,(2,10))\n",
        "print((~two_D.any(axis=0)).any())"
      ]
    },
    {
      "cell_type": "markdown",
      "metadata": {
        "id": "5JSdBOOmpyRg"
      },
      "source": [
        "#### 61. Find the nearest value from a given value in an array (★★☆) \n",
        "(**hint**: np.abs, argmin, flat)"
      ]
    },
    {
      "cell_type": "code",
      "execution_count": 30,
      "metadata": {
        "id": "yWTzn-KTpyRg",
        "outputId": "d73c3d72-5cf3-4f0b-9d35-5bc5571494e6",
        "colab": {
          "base_uri": "https://localhost:8080/"
        }
      },
      "outputs": [
        {
          "output_type": "stream",
          "name": "stdout",
          "text": [
            "0.3245486750669778\n"
          ]
        }
      ],
      "source": [
        "Value1 = np.random.uniform(0,1,10)\n",
        "Value2 = 0.5\n",
        "result = Value1.flat[np.abs(Value1 - Value2).argmin()]\n",
        "print(result)"
      ]
    },
    {
      "cell_type": "markdown",
      "metadata": {
        "id": "YEUOXRX1pyRg"
      },
      "source": [
        "#### 62. Considering two arrays with shape (1,3) and (3,1), how to compute their sum using an iterator? (★★☆) \n",
        "(**hint**: np.nditer)"
      ]
    },
    {
      "cell_type": "code",
      "execution_count": null,
      "metadata": {
        "id": "X9n-rZWFpyRh"
      },
      "outputs": [],
      "source": []
    },
    {
      "cell_type": "markdown",
      "metadata": {
        "id": "FvLhKBhQpyRh"
      },
      "source": [
        "#### 63. Create an array class that has a name attribute (★★☆) \n",
        "(**hint**: class method)"
      ]
    },
    {
      "cell_type": "code",
      "execution_count": null,
      "metadata": {
        "id": "IhsgaBlMpyRh"
      },
      "outputs": [],
      "source": []
    },
    {
      "cell_type": "markdown",
      "metadata": {
        "id": "-qdmpkm4pyRi"
      },
      "source": [
        "#### 64. Consider a given vector, how to add 1 to each element indexed by a second vector (be careful with repeated indices)? (★★★) \n",
        "(**hint**: np.bincount | np.add.at)"
      ]
    },
    {
      "cell_type": "code",
      "execution_count": 31,
      "metadata": {
        "id": "yd5zZtaApyRi",
        "outputId": "2c3acc78-c6bc-4914-e7ed-2e0242b889c6",
        "colab": {
          "base_uri": "https://localhost:8080/"
        }
      },
      "outputs": [
        {
          "output_type": "stream",
          "name": "stdout",
          "text": [
            "[3. 3. 4. 2. 1. 4. 3. 5. 2. 3.]\n",
            "[5. 5. 7. 3. 1. 7. 5. 9. 3. 5.]\n"
          ]
        }
      ],
      "source": [
        "value1 = np.ones(10)\n",
        "integer= np.random.randint(0,len(value1),20)\n",
        "value1 += np.bincount(integer,minlength=len(value1))\n",
        "print(value1)\n",
        "\n",
        "np.add.at(value1,integer, 1)\n",
        "print(value1)"
      ]
    },
    {
      "cell_type": "markdown",
      "metadata": {
        "id": "dmm2HcU7pyRi"
      },
      "source": [
        "#### 65. How to accumulate elements of a vector (X) to an array (F) based on an index list (I)? (★★★) \n",
        "(**hint**: np.bincount)"
      ]
    },
    {
      "cell_type": "code",
      "execution_count": 33,
      "metadata": {
        "id": "vTeQnrdapyRi",
        "outputId": "f3f7fdf4-dfbb-4407-f9ce-411e726093e1",
        "colab": {
          "base_uri": "https://localhost:8080/"
        }
      },
      "outputs": [
        {
          "output_type": "stream",
          "name": "stdout",
          "text": [
            "[0. 0. 8. 9. 0. 0. 4. 5.]\n"
          ]
        }
      ],
      "source": [
        "x_value= np.random.randint(1,10,6)\n",
        "y_value = np.random.randint(1,10,6)\n",
        "result = np.bincount(x_value,y_value)\n",
        "print(result)"
      ]
    },
    {
      "cell_type": "markdown",
      "metadata": {
        "id": "COa8UdIppyRj"
      },
      "source": [
        "#### 66. Considering a (w,h,3) image of (dtype=ubyte), compute the number of unique colors (★★★) \n",
        "(**hint**: np.unique)"
      ]
    },
    {
      "cell_type": "code",
      "execution_count": null,
      "metadata": {
        "id": "eMOsrgwrpyRj"
      },
      "outputs": [],
      "source": []
    },
    {
      "cell_type": "markdown",
      "metadata": {
        "id": "JhSkbfIvpyRj"
      },
      "source": [
        "#### 67. Considering a four dimensions array, how to get sum over the last two axis at once? (★★★) \n",
        "(**hint**: sum(axis=(-2,-1)))"
      ]
    },
    {
      "cell_type": "code",
      "execution_count": 3,
      "metadata": {
        "id": "9YIhRYsApyRk",
        "outputId": "89c418b1-ef96-49a3-a12b-adf677447b65",
        "colab": {
          "base_uri": "https://localhost:8080/"
        }
      },
      "outputs": [
        {
          "output_type": "stream",
          "name": "stdout",
          "text": [
            "[[50 77 45 72]\n",
            " [55 65 67 61]\n",
            " [50 56 63 54]]\n",
            "[[50 77 45 72]\n",
            " [55 65 67 61]\n",
            " [50 56 63 54]]\n"
          ]
        }
      ],
      "source": [
        "Value = np.random.randint(1,11,(3,4,3,4))\n",
        "sum = Value.sum(axis=(-2,-1))\n",
        "print(sum)\n",
        "sum = Value.reshape(Value.shape[:-2]+(-1,)).sum(axis=-1)\n",
        "print(sum)"
      ]
    },
    {
      "cell_type": "markdown",
      "metadata": {
        "id": "Z_WfS3tTpyRk"
      },
      "source": [
        "#### 68. Considering a one-dimensional vector D, how to compute means of subsets of D using a vector S of same size describing subset  indices? (★★★) \n",
        "(**hint**: np.bincount)"
      ]
    },
    {
      "cell_type": "code",
      "execution_count": 7,
      "metadata": {
        "id": "SyvRq6SKpyRk",
        "outputId": "c036bf53-6fcd-4eb4-b51a-04c55929c32b",
        "colab": {
          "base_uri": "https://localhost:8080/"
        }
      },
      "outputs": [
        {
          "output_type": "stream",
          "name": "stdout",
          "text": [
            "[0.305735   0.48851882 0.53990222 0.39059646 0.50233605 0.41525951\n",
            " 0.59303133 0.53310368 0.52879831 0.48752663]\n",
            "0    0.305735\n",
            "1    0.488519\n",
            "2    0.539902\n",
            "3    0.390596\n",
            "4    0.502336\n",
            "5    0.415260\n",
            "6    0.593031\n",
            "7    0.533104\n",
            "8    0.528798\n",
            "9    0.487527\n",
            "dtype: float64\n"
          ]
        }
      ],
      "source": [
        "Value1 = np.random.uniform(0,1,100)\n",
        "Value2 = np.random.randint(0,10,100)\n",
        "value1_re = np.bincount(Value2,weights=Value1)\n",
        "value1_counts = np.bincount(Value2)\n",
        "Value1_means = value1_re / value1_counts\n",
        "print(Value1_means)\n",
        "import pandas as pd\n",
        "print(pd.Series(Value1).groupby(Value2).mean())"
      ]
    },
    {
      "cell_type": "markdown",
      "metadata": {
        "id": "9Do7oZJppyRl"
      },
      "source": [
        "#### 69. How to get the diagonal of a dot product? (★★★) \n",
        "(**hint**: np.diag)"
      ]
    },
    {
      "cell_type": "code",
      "execution_count": 9,
      "metadata": {
        "id": "XMH7V3IrpyRl",
        "outputId": "3efa9d85-c544-4165-e795-2bdf3eaffc20",
        "colab": {
          "base_uri": "https://localhost:8080/"
        }
      },
      "outputs": [
        {
          "output_type": "stream",
          "name": "stdout",
          "text": [
            "[58.60562276 32.52022518 37.25778343 35.47409156 53.97475037]\n"
          ]
        }
      ],
      "source": [
        "diag1 = np.random.uniform(1,5,(5,5))\n",
        "diag2 = np.random.uniform(1,5,(5,5))\n",
        "print(np.diag(np.dot(diag1,diag2)))"
      ]
    },
    {
      "cell_type": "markdown",
      "metadata": {
        "id": "U5f4fhLfpyRl"
      },
      "source": [
        "#### 70. Consider the vector \\[1, 2, 3, 4, 5\\], how to build a new vector with 3 consecutive zeros interleaved between each value? (★★★) \n",
        "(**hint**: array\\[::4\\])"
      ]
    },
    {
      "cell_type": "code",
      "execution_count": 10,
      "metadata": {
        "id": "e7E_pa7NpyRm",
        "outputId": "9e3c7e98-8bbd-45ac-efad-54c382505df5",
        "colab": {
          "base_uri": "https://localhost:8080/"
        }
      },
      "outputs": [
        {
          "output_type": "stream",
          "name": "stdout",
          "text": [
            "[11.  0.  0.  0. 22.  0.  0.  0. 33.  0.  0.  0. 44.  0.  0.  0. 55.]\n"
          ]
        }
      ],
      "source": [
        "arr= np.array([11,22,33,44,55])\n",
        "no_of_ze = 3\n",
        "arr_val = np.zeros(len(arr) + (len(arr)-1)*(no_of_ze))\n",
        "arr_val[::no_of_ze+1] = arr\n",
        "print(arr_val)"
      ]
    },
    {
      "cell_type": "markdown",
      "metadata": {
        "id": "Na106Vc9pyRm"
      },
      "source": [
        "#### 71. Consider an array of dimension (5,5,3), how to mulitply it by an array with dimensions (5,5)? (★★★) \n",
        "(**hint**: array\\[:, :, None\\])"
      ]
    },
    {
      "cell_type": "code",
      "execution_count": 12,
      "metadata": {
        "collapsed": true,
        "id": "cMwg6vQFpyRm",
        "outputId": "59e186e4-481f-4e52-dbde-70ae4d6bc43d",
        "colab": {
          "base_uri": "https://localhost:8080/"
        }
      },
      "outputs": [
        {
          "output_type": "stream",
          "name": "stdout",
          "text": [
            "[[[5. 5. 5.]\n",
            "  [5. 5. 5.]\n",
            "  [5. 5. 5.]\n",
            "  [5. 5. 5.]\n",
            "  [5. 5. 5.]]\n",
            "\n",
            " [[5. 5. 5.]\n",
            "  [5. 5. 5.]\n",
            "  [5. 5. 5.]\n",
            "  [5. 5. 5.]\n",
            "  [5. 5. 5.]]\n",
            "\n",
            " [[5. 5. 5.]\n",
            "  [5. 5. 5.]\n",
            "  [5. 5. 5.]\n",
            "  [5. 5. 5.]\n",
            "  [5. 5. 5.]]\n",
            "\n",
            " [[5. 5. 5.]\n",
            "  [5. 5. 5.]\n",
            "  [5. 5. 5.]\n",
            "  [5. 5. 5.]\n",
            "  [5. 5. 5.]]\n",
            "\n",
            " [[5. 5. 5.]\n",
            "  [5. 5. 5.]\n",
            "  [5. 5. 5.]\n",
            "  [5. 5. 5.]\n",
            "  [5. 5. 5.]]]\n"
          ]
        }
      ],
      "source": [
        "arr1= np.ones((5,5,3))\n",
        "arr2= 5*np.ones((5,5))\n",
        "print(arr1*arr2[:,:,None])"
      ]
    },
    {
      "cell_type": "markdown",
      "metadata": {
        "id": "4jsOnmLvpyRn"
      },
      "source": [
        "#### 72. How to swap two rows of an array? (★★★) \n",
        "(**hint**: array\\[\\[\\]\\] = array\\[\\[\\]\\])"
      ]
    },
    {
      "cell_type": "code",
      "execution_count": 13,
      "metadata": {
        "id": "-HVts8C7pyRo",
        "outputId": "18b6fe0b-1e86-4573-aace-d35811d15884",
        "colab": {
          "base_uri": "https://localhost:8080/"
        }
      },
      "outputs": [
        {
          "output_type": "stream",
          "name": "stdout",
          "text": [
            "[[ 0  1  2  3  4]\n",
            " [ 5  6  7  8  9]\n",
            " [15 16 17 18 19]\n",
            " [10 11 12 13 14]\n",
            " [20 21 22 23 24]]\n"
          ]
        }
      ],
      "source": [
        "arr = np.arange(25).reshape(5,5)\n",
        "arr[[2,3]] = arr[[3,2]]\n",
        "print(arr)"
      ]
    },
    {
      "cell_type": "markdown",
      "metadata": {
        "id": "-J1lxBYLpyRo"
      },
      "source": [
        "#### 73. Consider a set of 10 triplets describing 10 triangles (with shared vertices), find the set of unique line segments composing all the  triangles (★★★) \n",
        "(**hint**: repeat, np.roll, np.sort, view, np.unique)"
      ]
    },
    {
      "cell_type": "code",
      "execution_count": null,
      "metadata": {
        "id": "iUpCt4IKpyRp"
      },
      "outputs": [],
      "source": []
    },
    {
      "cell_type": "markdown",
      "metadata": {
        "id": "YcrSNS0WpyRt"
      },
      "source": [
        "#### 74. Given an array C that is a bincount, how to produce an array A such that np.bincount(A) == C? (★★★) \n",
        "(**hint**: np.repeat)"
      ]
    },
    {
      "cell_type": "code",
      "execution_count": 15,
      "metadata": {
        "id": "JhPRcrWCpyRu",
        "outputId": "bd6fff39-4608-4fd1-a05b-844a0e14dad3",
        "colab": {
          "base_uri": "https://localhost:8080/"
        }
      },
      "outputs": [
        {
          "output_type": "stream",
          "name": "stdout",
          "text": [
            "[0 1 2 3 4 5 6]\n"
          ]
        }
      ],
      "source": [
        "arr1= np.bincount([0,1,2,3,4,5,6])\n",
        "arr2= np.repeat(np.arange(len(arr1)),arr1)\n",
        "print(arr2)"
      ]
    },
    {
      "cell_type": "markdown",
      "metadata": {
        "id": "_jyr6wlwpyRu"
      },
      "source": [
        "#### 75. How to compute averages using a sliding window over an array? (★★★) \n",
        "(**hint**: np.cumsum)"
      ]
    },
    {
      "cell_type": "code",
      "execution_count": null,
      "metadata": {
        "id": "FJszRSuDpyRv"
      },
      "outputs": [],
      "source": []
    },
    {
      "cell_type": "markdown",
      "metadata": {
        "id": "nOojQjUxpyRv"
      },
      "source": [
        "#### 76. Consider a one-dimensional array Z, build a two-dimensional array whose first row is (Z\\[0\\],Z\\[1\\],Z\\[2\\]) and each subsequent row is  shifted by 1 (last row should be (Z\\[-3\\],Z\\[-2\\],Z\\[-1\\]) (★★★) \n",
        "(**hint**: from numpy.lib import stride_tricks)"
      ]
    },
    {
      "cell_type": "code",
      "execution_count": null,
      "metadata": {
        "id": "pjj0SuNppyRw"
      },
      "outputs": [],
      "source": []
    },
    {
      "cell_type": "markdown",
      "metadata": {
        "id": "6VgZa6jgpyRw"
      },
      "source": [
        "#### 77. How to negate a boolean, or to change the sign of a float inplace? (★★★) \n",
        "(**hint**: np.logical_not, np.negative)"
      ]
    },
    {
      "cell_type": "code",
      "execution_count": 16,
      "metadata": {
        "id": "In9Er4SapyRx",
        "outputId": "b7ae3d6c-b6d1-4fdc-f638-e91eac73374b",
        "colab": {
          "base_uri": "https://localhost:8080/"
        }
      },
      "outputs": [
        {
          "output_type": "stream",
          "name": "stdout",
          "text": [
            "[1 0 0 0 1 1 0 1 1 0 1 1 1 0 1 1 0 1 0 0 0 1 1 0 0 1 0 1 1 0 1 0 0 1 1 0 1\n",
            " 1 0 1 0 1 1 1 0 1 0 1 1 1 1 0 1 1 1 1 0 0 0 1 0 0 1 0 1 1 1 1 0 1 1 0 0 0\n",
            " 0 0 0 1 1 1 1 0 0 1 1 0 1 0 0 1 1 1 1 0 0 0 1 1 1 0]\n"
          ]
        }
      ],
      "source": [
        "arr = np.random.randint(0,2,100)\n",
        "print(np.logical_not(arr,out=arr))\n"
      ]
    },
    {
      "cell_type": "markdown",
      "metadata": {
        "id": "jg-NTigVpyRx"
      },
      "source": [
        "#### 78. Consider 2 sets of points P0,P1 describing lines (2d) and a point p, how to compute distance from p to each line i  (P0\\[i\\],P1\\[i\\])? (★★★)"
      ]
    },
    {
      "cell_type": "code",
      "execution_count": null,
      "metadata": {
        "id": "vIfMkhxFpyRy"
      },
      "outputs": [],
      "source": []
    },
    {
      "cell_type": "markdown",
      "metadata": {
        "id": "9u1b8egWpyRz"
      },
      "source": [
        "#### 79. Consider 2 sets of points P0,P1 describing lines (2d) and a set of points P, how to compute distance from each point j (P\\[j\\]) to each line i (P0\\[i\\],P1\\[i\\])? (★★★)"
      ]
    },
    {
      "cell_type": "code",
      "execution_count": null,
      "metadata": {
        "id": "nFdl7E4wpyR0"
      },
      "outputs": [],
      "source": []
    },
    {
      "cell_type": "markdown",
      "metadata": {
        "id": "mYbcVCKLpyR0"
      },
      "source": [
        "#### 80. Consider an arbitrary array, write a function that extract a subpart with a fixed shape and centered on a given element (pad with a `fill` value when necessary) (★★★) \n",
        "(**hint**: minimum, maximum)"
      ]
    },
    {
      "cell_type": "code",
      "execution_count": null,
      "metadata": {
        "id": "03fQ-sE1pyR1"
      },
      "outputs": [],
      "source": []
    },
    {
      "cell_type": "markdown",
      "metadata": {
        "id": "gZRfu_fRpyR1"
      },
      "source": [
        "#### 81. Consider an array Z = \\[1,2,3,4,5,6,7,8,9,10,11,12,13,14\\], how to generate an array R = \\[\\[1,2,3,4\\], \\[2,3,4,5\\], \\[3,4,5,6\\], ..., \\[11,12,13,14\\]\\]? (★★★) \n",
        "(**hint**: stride\\_tricks.as\\_strided)"
      ]
    },
    {
      "cell_type": "code",
      "execution_count": null,
      "metadata": {
        "id": "w7cgN4h3pyR2"
      },
      "outputs": [],
      "source": []
    },
    {
      "cell_type": "markdown",
      "metadata": {
        "id": "bjrCQqn-pyR3"
      },
      "source": [
        "#### 82. Compute a matrix rank (★★★) \n",
        "(**hint**: np.linalg.svd) (suggestion: np.linalg.svd)"
      ]
    },
    {
      "cell_type": "code",
      "execution_count": 18,
      "metadata": {
        "id": "jA3lYzIlpyR3",
        "outputId": "9c5d44ca-4e94-40d4-d2c1-f05ba6655311",
        "colab": {
          "base_uri": "https://localhost:8080/"
        }
      },
      "outputs": [
        {
          "output_type": "stream",
          "name": "stdout",
          "text": [
            "10\n"
          ]
        }
      ],
      "source": [
        "arr = np.random.uniform(0,1,(10,10))\n",
        "A,B,C = np.linalg.svd(arr)\n",
        "rank = np.sum(B > 1e-10)\n",
        "print(rank)"
      ]
    },
    {
      "cell_type": "markdown",
      "metadata": {
        "id": "WkpODUMUpyR3"
      },
      "source": [
        "#### 83. How to find the most frequent value in an array? \n",
        "(**hint**: np.bincount, argmax)"
      ]
    },
    {
      "cell_type": "code",
      "execution_count": 19,
      "metadata": {
        "id": "0gKPUMtzpyR4",
        "outputId": "1f1e6c44-f2fa-45b3-be2e-51ec8ed577c0",
        "colab": {
          "base_uri": "https://localhost:8080/"
        }
      },
      "outputs": [
        {
          "output_type": "stream",
          "name": "stdout",
          "text": [
            "5\n"
          ]
        }
      ],
      "source": [
        "freq = np.random.randint(1,11,10)\n",
        "print(np.bincount(freq).argmax())"
      ]
    },
    {
      "cell_type": "markdown",
      "metadata": {
        "id": "Li9gZWgfpyR4"
      },
      "source": [
        "#### 84. Extract all the contiguous 3x3 blocks from a random 10x10 matrix (★★★) \n",
        "(**hint**: stride\\_tricks.as\\_strided)"
      ]
    },
    {
      "cell_type": "code",
      "execution_count": null,
      "metadata": {
        "id": "jIco6SLypyR5"
      },
      "outputs": [],
      "source": []
    },
    {
      "cell_type": "markdown",
      "metadata": {
        "id": "KW3y_BnJpyR5"
      },
      "source": [
        "#### 85. Create a 2D array subclass such that Z\\[i,j\\] == Z\\[j,i\\] (★★★) \n",
        "(**hint**: class method)"
      ]
    },
    {
      "cell_type": "code",
      "execution_count": null,
      "metadata": {
        "id": "yGGVRBgEpyR6"
      },
      "outputs": [],
      "source": []
    },
    {
      "cell_type": "markdown",
      "metadata": {
        "id": "Jx9SvQ9EpyR7"
      },
      "source": [
        "#### 86. Consider a set of p matrices wich shape (n,n) and a set of p vectors with shape (n,1). How to compute the sum of of the p matrix products at once? (result has shape (n,1)) (★★★) \n",
        "(**hint**: np.tensordot)"
      ]
    },
    {
      "cell_type": "code",
      "execution_count": 20,
      "metadata": {
        "id": "qM00IWtepyR8",
        "outputId": "51c50ccf-360b-4f01-eafb-8b132ecd5671",
        "colab": {
          "base_uri": "https://localhost:8080/"
        }
      },
      "outputs": [
        {
          "output_type": "stream",
          "name": "stdout",
          "text": [
            "[[2.]\n",
            " [2.]]\n"
          ]
        }
      ],
      "source": [
        "A,B = 1,2\n",
        "X = np.ones((A,B,B))\n",
        "Y = np.ones((A,B,1))\n",
        "Z = np.tensordot(X,Y,axes=[[0, 2], [0, 1]])\n",
        "print(Z)"
      ]
    },
    {
      "cell_type": "markdown",
      "metadata": {
        "id": "B09L1i7jpyR8"
      },
      "source": [
        "#### 87. Consider a 16x16 array, how to get the block-sum (block size is 4x4)? (★★★) \n",
        "(**hint**: np.add.reduceat)"
      ]
    },
    {
      "cell_type": "code",
      "execution_count": null,
      "metadata": {
        "id": "sn6NwfJNpyR8"
      },
      "outputs": [],
      "source": []
    },
    {
      "cell_type": "markdown",
      "metadata": {
        "id": "PErVF3GjpyR9"
      },
      "source": [
        "#### 88. How to implement the Game of Life using numpy arrays? (★★★)"
      ]
    },
    {
      "cell_type": "code",
      "execution_count": null,
      "metadata": {
        "id": "VbjELWZTpyR9"
      },
      "outputs": [],
      "source": []
    },
    {
      "cell_type": "markdown",
      "metadata": {
        "id": "BFxtD6A2pyR9"
      },
      "source": [
        "#### 89. How to get the n largest values of an array (★★★) \n",
        "(**hint**: np.argsort | np.argpartition)"
      ]
    },
    {
      "cell_type": "code",
      "execution_count": 21,
      "metadata": {
        "id": "ynZucX5ipyR-",
        "outputId": "87b85332-e0b9-4fa9-82af-badf8e16a54a",
        "colab": {
          "base_uri": "https://localhost:8080/"
        }
      },
      "outputs": [
        {
          "output_type": "stream",
          "name": "stdout",
          "text": [
            "[97 98 99 96 95]\n"
          ]
        }
      ],
      "source": [
        "ran = np.arange(100)\n",
        "np.random.shuffle(ran)\n",
        "val = 5\n",
        "print (ran[np.argpartition(-ran,val)[:val]])"
      ]
    },
    {
      "cell_type": "markdown",
      "metadata": {
        "id": "AAw2v21bpyR-"
      },
      "source": [
        "#### 90. Given an arbitrary number of vectors, build the cartesian product (every combinations of every item) (★★★) \n",
        "(**hint**: np.indices)"
      ]
    },
    {
      "cell_type": "code",
      "execution_count": null,
      "metadata": {
        "scrolled": true,
        "id": "RnOVWrklpyR-"
      },
      "outputs": [],
      "source": []
    },
    {
      "cell_type": "markdown",
      "metadata": {
        "id": "1s4NzwvrpyR-"
      },
      "source": [
        "#### 91. How to create a record array from a regular array? (★★★) \n",
        "(**hint**: np.core.records.fromarrays)"
      ]
    },
    {
      "cell_type": "code",
      "execution_count": null,
      "metadata": {
        "id": "mC2lTGePpyR_"
      },
      "outputs": [],
      "source": []
    },
    {
      "cell_type": "markdown",
      "metadata": {
        "id": "ULIr6GzDpyR_"
      },
      "source": [
        "#### 92. Consider a large vector Z, compute Z to the power of 3 using 3 different methods (★★★) \n",
        "(**hint**: np.power, \\*, np.einsum)"
      ]
    },
    {
      "cell_type": "code",
      "execution_count": 22,
      "metadata": {
        "id": "7EY-AkakpyR_",
        "outputId": "75e89d26-d635-4d75-ace3-a37396eda712",
        "colab": {
          "base_uri": "https://localhost:8080/"
        }
      },
      "outputs": [
        {
          "output_type": "stream",
          "name": "stdout",
          "text": [
            "3.73 s ± 14.9 ms per loop (mean ± std. dev. of 7 runs, 1 loop each)\n",
            "145 ms ± 914 µs per loop (mean ± std. dev. of 7 runs, 10 loops each)\n",
            "123 ms ± 614 µs per loop (mean ± std. dev. of 7 runs, 10 loops each)\n"
          ]
        }
      ],
      "source": [
        "x = np.random.rand(int(5e7))\n",
        "%timeit np.power(x,3)\n",
        "%timeit x*x*x\n",
        "%timeit np.einsum('i,i,i->i',x,x,x)"
      ]
    },
    {
      "cell_type": "markdown",
      "metadata": {
        "id": "AWnBcBGwpySA"
      },
      "source": [
        "#### 93. Consider two arrays A and B of shape (8,3) and (2,2). How to find rows of A that contain elements of each row of B regardless of the order of the elements in B? (★★★) \n",
        "(**hint**: np.where)"
      ]
    },
    {
      "cell_type": "code",
      "execution_count": 23,
      "metadata": {
        "id": "2sY5ZFh2pySA",
        "outputId": "8c24bff8-5506-48a4-ebe8-002a9b098c51",
        "colab": {
          "base_uri": "https://localhost:8080/"
        }
      },
      "outputs": [
        {
          "output_type": "stream",
          "name": "stdout",
          "text": [
            "[1 3 4 7]\n"
          ]
        }
      ],
      "source": [
        "A = np.random.randint(0,5,(8,3))\n",
        "B = np.random.randint(0,5,(2,2))\n",
        "C = (A[..., np.newaxis, np.newaxis] == B)\n",
        "rows = np.where(C.any((3,1)).all(1))[0]\n",
        "print(rows)"
      ]
    },
    {
      "cell_type": "markdown",
      "metadata": {
        "id": "swt8EHP6pySA"
      },
      "source": [
        "#### 94. Considering a 10x3 matrix, extract rows with unequal values (e.g. \\[2,2,3\\]) (★★★)"
      ]
    },
    {
      "cell_type": "code",
      "execution_count": null,
      "metadata": {
        "id": "wjx3h9ZNpySB"
      },
      "outputs": [],
      "source": []
    },
    {
      "cell_type": "markdown",
      "metadata": {
        "id": "AVOy7RO9pySB"
      },
      "source": [
        "#### 95. Convert a vector of ints into a matrix binary representation (★★★) \n",
        "(**hint**: np.unpackbits)"
      ]
    },
    {
      "cell_type": "code",
      "execution_count": null,
      "metadata": {
        "id": "o_FIGWDspySB"
      },
      "outputs": [],
      "source": []
    },
    {
      "cell_type": "markdown",
      "metadata": {
        "id": "DEiySi4jpySB"
      },
      "source": [
        "#### 96. Given a two dimensional array, how to extract unique rows? (★★★) \n",
        "(**hint**: np.ascontiguousarray)"
      ]
    },
    {
      "cell_type": "code",
      "execution_count": null,
      "metadata": {
        "id": "6o64JAJ8pySC"
      },
      "outputs": [],
      "source": []
    },
    {
      "cell_type": "markdown",
      "metadata": {
        "id": "FE_gO8aLpySC"
      },
      "source": [
        "#### 97. Considering 2 vectors A & B, write the einsum equivalent of inner, outer, sum, and mul function (★★★) \n",
        "(**hint**: np.einsum)"
      ]
    },
    {
      "cell_type": "code",
      "execution_count": null,
      "metadata": {
        "id": "ytNltwGPpySC"
      },
      "outputs": [],
      "source": []
    },
    {
      "cell_type": "markdown",
      "metadata": {
        "id": "gSuMWRnkpySC"
      },
      "source": [
        "#### 98. Considering a path described by two vectors (X,Y), how to sample it using equidistant samples (★★★)? \n",
        "(**hint**: np.cumsum, np.interp)"
      ]
    },
    {
      "cell_type": "code",
      "execution_count": null,
      "metadata": {
        "collapsed": true,
        "id": "vFa1IOdMpySD"
      },
      "outputs": [],
      "source": []
    },
    {
      "cell_type": "markdown",
      "metadata": {
        "id": "TKE5zWaypySD"
      },
      "source": [
        "#### 99. Given an integer n and a 2D array X, select from X the rows which can be interpreted as draws from a multinomial distribution with n degrees, i.e., the rows which only contain integers and which sum to n. (★★★) \n",
        "(**hint**: np.logical\\_and.reduce, np.mod)"
      ]
    },
    {
      "cell_type": "code",
      "execution_count": null,
      "metadata": {
        "id": "h2cw4qHfpySD"
      },
      "outputs": [],
      "source": []
    },
    {
      "cell_type": "markdown",
      "metadata": {
        "id": "CUqrOXvvpySD"
      },
      "source": [
        "#### 100. Compute bootstrapped 95% confidence intervals for the mean of a 1D array X (i.e., resample the elements of an array with replacement N times, compute the mean of each sample, and then compute percentiles over the means). (★★★) \n",
        "(**hint**: np.percentile)"
      ]
    },
    {
      "cell_type": "code",
      "execution_count": null,
      "metadata": {
        "id": "vITK5QUGpySE"
      },
      "outputs": [],
      "source": []
    }
  ],
  "metadata": {
    "kernelspec": {
      "display_name": "Python 3",
      "language": "python",
      "name": "python3"
    },
    "language_info": {
      "codemirror_mode": {
        "name": "ipython",
        "version": 3
      },
      "file_extension": ".py",
      "mimetype": "text/x-python",
      "name": "python",
      "nbconvert_exporter": "python",
      "pygments_lexer": "ipython3",
      "version": "3.8.3"
    },
    "colab": {
      "provenance": [],
      "include_colab_link": true
    }
  },
  "nbformat": 4,
  "nbformat_minor": 0
}